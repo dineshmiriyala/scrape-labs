{
  "nbformat": 4,
  "nbformat_minor": 0,
  "metadata": {
    "colab": {
      "provenance": []
    },
    "kernelspec": {
      "name": "python3",
      "display_name": "Python 3"
    },
    "language_info": {
      "name": "python"
    }
  },
  "cells": [
    {
      "cell_type": "markdown",
      "source": [
        "## This script contains Web Scraping logic to scrape all the Data Engineer jobs from Internet.\n",
        "\n",
        "- The data scraped will be\n",
        "  - Date, Job Name, Company, Link to apply,\n",
        "- We will be using BeautifulSoup for this."
      ],
      "metadata": {
        "id": "fOc_LGvXTiO3"
      }
    },
    {
      "cell_type": "code",
      "source": [
        "import requests\n",
        "from bs4 import BeautifulSoup"
      ],
      "metadata": {
        "id": "AxL1RGttS7ur"
      },
      "execution_count": 29,
      "outputs": []
    },
    {
      "cell_type": "code",
      "source": [
        "url = \"https://weworkremotely.com/remote-jobs\"\n",
        "response = requests.get(url)\n",
        "print(\"Status: \", response.status_code)\n",
        "print(response.text[:100])"
      ],
      "metadata": {
        "colab": {
          "base_uri": "https://localhost:8080/"
        },
        "id": "ekAnnkmqXJTb",
        "outputId": "720f51a0-da54-40d3-f488-43812072dbe5"
      },
      "execution_count": 30,
      "outputs": [
        {
          "output_type": "stream",
          "name": "stdout",
          "text": [
            "Status:  200\n",
            "<!DOCTYPE html><html><head><meta charset=utf-8 /><script>window.NREUM||(NREUM={});NREUM.info={\"beaco\n"
          ]
        }
      ]
    },
    {
      "cell_type": "code",
      "source": [
        "soup = BeautifulSoup(response.text, \"html.parser\")\n",
        "\n",
        "jobs = soup.find_all(\"li\", class_ = \"new-listing-container\")\n",
        "\n",
        "print(jobs[0])"
      ],
      "metadata": {
        "colab": {
          "base_uri": "https://localhost:8080/"
        },
        "id": "vY_jOk70Xq1h",
        "outputId": "63f7ce97-322a-4252-90a2-6190b9afabf0"
      },
      "execution_count": 34,
      "outputs": [
        {
          "output_type": "stream",
          "name": "stdout",
          "text": [
            "<li class=\"new-listing-container feature\"><div class=\"highlight-bar\"></div><div class=\"tooltip--flag-logo\"><a href=\"/company/report-owl-llc\"><div alt=\"Report Owl LLC is hiring a remote Remote Inside Sales at We Work Remotely.\" class=\"tooltip--flag-logo__flag-logo\" loading=\"lazy\" style=\"background-image:url(https://we-work-remotely.imgix.net/logos/0126/5280/logo.gif?ixlib=rails-4.0.0&amp;w=50&amp;h=50&amp;dpr=2&amp;fit=fill&amp;auto=compress)\"></div><span class=\"tooltip--flag-logo__tooltiptext\">View Company Profile</span></a></div><a href=\"/remote-jobs/report-owl-llc-remote-inside-sales-3\"><div class=\"new-listing paid-logo\"><div class=\"new-listing__header\"><h3 class=\"new-listing__header__title\"> Remote Inside Sales </h3><div class=\"new-listing__header__icons\"><p class=\"new-listing__header__icons__date\"><span class=\"new\">New</span></p><img alt=\"\" class=\"new-listing__header__icons__pinnedIcon\" role=\"presentation\" src=\"https://weworkremotely.com/assets/pin-new-listing-icon-f1eb7ca3238f0782d024b085847f32a6b73b7de1e011e877855c0525cb7b87e5.svg\"/></div></div><p class=\"new-listing__company-name\"> Report Owl LLC <img alt=\"\" class=\"lis-container__job__sidebar__companyDetails__info__title__icon\" role=\"presentation\" src=\"https://weworkremotely.com/assets/company-name-new-listing-icon-1535d75c2a56fe22cf7821636a862de6f5dcb83b1395dc2c164b77476b274c99.svg\"/></p><p class=\"new-listing__company-headquarters\"> USA <i class=\"fa-solid fa-location-dot\"></i></p><div class=\"new-listing__categories\"><p class=\"new-listing__categories__category new-listing__categories__category--featured\">Featured</p><p class=\"new-listing__categories__category\"> Contract </p><p class=\"new-listing__categories__category\"> Anywhere in the World </p></div></div></a></li>\n"
          ]
        }
      ]
    },
    {
      "cell_type": "code",
      "source": [
        "job_data = []\n",
        "\n",
        "for job in jobs:\n",
        "  title = job.find(\"h3\", class_ = \"new-listing__header__title\")\n",
        "  company = job.find(\"p\", class_ = \"new-listing__company-name\")\n",
        "  location = job.find(\"p\", class_ = \"new-listing__company-headquarters\")\n",
        "  link = job.find_all(\"a\", href = True)\n",
        "  date = job.find(\"p\", class_ = \"new-listing__header__icons__date\").text.strip()\n",
        "  date_new = parse_relative_data(date)\n",
        "\n",
        "  if title or company or link:\n",
        "    job_data.append({\n",
        "        \"title\": title.text.strip(),\n",
        "        \"company\": company.text.strip(),\n",
        "        \"location\": location.text.strip() if location else \"Not Listed\",\n",
        "        \"url\": \"https://weworkremotely.com\" + link[1][\"href\"] if link else \"Not Listed/Coundn't Find\",\n",
        "        \"date\":date_new.strftime(\"%Y-%m-%d\")\n",
        "    })"
      ],
      "metadata": {
        "id": "kcF5-HjtYrSq"
      },
      "execution_count": 66,
      "outputs": []
    },
    {
      "cell_type": "code",
      "source": [
        "jobs[10].find(\"p\", class_ = \"new-listing__header__icons__date\").text.strip()\n"
      ],
      "metadata": {
        "colab": {
          "base_uri": "https://localhost:8080/",
          "height": 35
        },
        "id": "IdK89jUYeZxK",
        "outputId": "3a7357e7-bcc8-48ff-deca-576ce98a4fb9"
      },
      "execution_count": 63,
      "outputs": [
        {
          "output_type": "execute_result",
          "data": {
            "text/plain": [
              "'22d'"
            ],
            "application/vnd.google.colaboratory.intrinsic+json": {
              "type": "string"
            }
          },
          "metadata": {},
          "execution_count": 63
        }
      ]
    },
    {
      "cell_type": "code",
      "source": [
        "import pandas as pd"
      ],
      "metadata": {
        "id": "Ku0SvS5De9Ic"
      },
      "execution_count": 55,
      "outputs": []
    },
    {
      "cell_type": "code",
      "source": [
        "df = pd.DataFrame(job_data)\n",
        "df.head()"
      ],
      "metadata": {
        "colab": {
          "base_uri": "https://localhost:8080/",
          "height": 289
        },
        "id": "F0yUKK9Ee_p1",
        "outputId": "4c8ed6e1-5df5-491c-91a1-9a8a898b7c7c"
      },
      "execution_count": 67,
      "outputs": [
        {
          "output_type": "execute_result",
          "data": {
            "text/plain": [
              "                                               title                  company  \\\n",
              "0                                Remote Inside Sales           Report Owl LLC   \n",
              "1  Senior Product Marketing Manager - Conversion ...  Circuit Routing Limited   \n",
              "2                                        Growth Lead                  Forager   \n",
              "3       Remote Sales Representative - Work from home           Unload My Home   \n",
              "4                   Coding bootcamp - Job Guaranteed                   Metana   \n",
              "\n",
              "                                            location  \\\n",
              "0                                                USA   \n",
              "1                                           Anywhere   \n",
              "2                                        Los Angeles   \n",
              "3                                   Jacksonville, FL   \n",
              "4  Learn job-ready skills on your schedule with 1...   \n",
              "\n",
              "                                                 url        date  \n",
              "0  https://weworkremotely.com/remote-jobs/report-...  2025-09-11  \n",
              "1  https://weworkremotely.com/remote-jobs/circuit...  2025-09-11  \n",
              "2  https://weworkremotely.com/remote-jobs/forager...  2025-09-11  \n",
              "3  https://weworkremotely.com/remote-jobs/unload-...  2025-09-08  \n",
              "4  https://weworkremotely.comhttps://metana.io/fu...  2025-09-11  "
            ],
            "text/html": [
              "\n",
              "  <div id=\"df-bfd8d95c-4dea-42bc-8514-76ca876dfaf5\" class=\"colab-df-container\">\n",
              "    <div>\n",
              "<style scoped>\n",
              "    .dataframe tbody tr th:only-of-type {\n",
              "        vertical-align: middle;\n",
              "    }\n",
              "\n",
              "    .dataframe tbody tr th {\n",
              "        vertical-align: top;\n",
              "    }\n",
              "\n",
              "    .dataframe thead th {\n",
              "        text-align: right;\n",
              "    }\n",
              "</style>\n",
              "<table border=\"1\" class=\"dataframe\">\n",
              "  <thead>\n",
              "    <tr style=\"text-align: right;\">\n",
              "      <th></th>\n",
              "      <th>title</th>\n",
              "      <th>company</th>\n",
              "      <th>location</th>\n",
              "      <th>url</th>\n",
              "      <th>date</th>\n",
              "    </tr>\n",
              "  </thead>\n",
              "  <tbody>\n",
              "    <tr>\n",
              "      <th>0</th>\n",
              "      <td>Remote Inside Sales</td>\n",
              "      <td>Report Owl LLC</td>\n",
              "      <td>USA</td>\n",
              "      <td>https://weworkremotely.com/remote-jobs/report-...</td>\n",
              "      <td>2025-09-11</td>\n",
              "    </tr>\n",
              "    <tr>\n",
              "      <th>1</th>\n",
              "      <td>Senior Product Marketing Manager - Conversion ...</td>\n",
              "      <td>Circuit Routing Limited</td>\n",
              "      <td>Anywhere</td>\n",
              "      <td>https://weworkremotely.com/remote-jobs/circuit...</td>\n",
              "      <td>2025-09-11</td>\n",
              "    </tr>\n",
              "    <tr>\n",
              "      <th>2</th>\n",
              "      <td>Growth Lead</td>\n",
              "      <td>Forager</td>\n",
              "      <td>Los Angeles</td>\n",
              "      <td>https://weworkremotely.com/remote-jobs/forager...</td>\n",
              "      <td>2025-09-11</td>\n",
              "    </tr>\n",
              "    <tr>\n",
              "      <th>3</th>\n",
              "      <td>Remote Sales Representative - Work from home</td>\n",
              "      <td>Unload My Home</td>\n",
              "      <td>Jacksonville, FL</td>\n",
              "      <td>https://weworkremotely.com/remote-jobs/unload-...</td>\n",
              "      <td>2025-09-08</td>\n",
              "    </tr>\n",
              "    <tr>\n",
              "      <th>4</th>\n",
              "      <td>Coding bootcamp - Job Guaranteed</td>\n",
              "      <td>Metana</td>\n",
              "      <td>Learn job-ready skills on your schedule with 1...</td>\n",
              "      <td>https://weworkremotely.comhttps://metana.io/fu...</td>\n",
              "      <td>2025-09-11</td>\n",
              "    </tr>\n",
              "  </tbody>\n",
              "</table>\n",
              "</div>\n",
              "    <div class=\"colab-df-buttons\">\n",
              "\n",
              "  <div class=\"colab-df-container\">\n",
              "    <button class=\"colab-df-convert\" onclick=\"convertToInteractive('df-bfd8d95c-4dea-42bc-8514-76ca876dfaf5')\"\n",
              "            title=\"Convert this dataframe to an interactive table.\"\n",
              "            style=\"display:none;\">\n",
              "\n",
              "  <svg xmlns=\"http://www.w3.org/2000/svg\" height=\"24px\" viewBox=\"0 -960 960 960\">\n",
              "    <path d=\"M120-120v-720h720v720H120Zm60-500h600v-160H180v160Zm220 220h160v-160H400v160Zm0 220h160v-160H400v160ZM180-400h160v-160H180v160Zm440 0h160v-160H620v160ZM180-180h160v-160H180v160Zm440 0h160v-160H620v160Z\"/>\n",
              "  </svg>\n",
              "    </button>\n",
              "\n",
              "  <style>\n",
              "    .colab-df-container {\n",
              "      display:flex;\n",
              "      gap: 12px;\n",
              "    }\n",
              "\n",
              "    .colab-df-convert {\n",
              "      background-color: #E8F0FE;\n",
              "      border: none;\n",
              "      border-radius: 50%;\n",
              "      cursor: pointer;\n",
              "      display: none;\n",
              "      fill: #1967D2;\n",
              "      height: 32px;\n",
              "      padding: 0 0 0 0;\n",
              "      width: 32px;\n",
              "    }\n",
              "\n",
              "    .colab-df-convert:hover {\n",
              "      background-color: #E2EBFA;\n",
              "      box-shadow: 0px 1px 2px rgba(60, 64, 67, 0.3), 0px 1px 3px 1px rgba(60, 64, 67, 0.15);\n",
              "      fill: #174EA6;\n",
              "    }\n",
              "\n",
              "    .colab-df-buttons div {\n",
              "      margin-bottom: 4px;\n",
              "    }\n",
              "\n",
              "    [theme=dark] .colab-df-convert {\n",
              "      background-color: #3B4455;\n",
              "      fill: #D2E3FC;\n",
              "    }\n",
              "\n",
              "    [theme=dark] .colab-df-convert:hover {\n",
              "      background-color: #434B5C;\n",
              "      box-shadow: 0px 1px 3px 1px rgba(0, 0, 0, 0.15);\n",
              "      filter: drop-shadow(0px 1px 2px rgba(0, 0, 0, 0.3));\n",
              "      fill: #FFFFFF;\n",
              "    }\n",
              "  </style>\n",
              "\n",
              "    <script>\n",
              "      const buttonEl =\n",
              "        document.querySelector('#df-bfd8d95c-4dea-42bc-8514-76ca876dfaf5 button.colab-df-convert');\n",
              "      buttonEl.style.display =\n",
              "        google.colab.kernel.accessAllowed ? 'block' : 'none';\n",
              "\n",
              "      async function convertToInteractive(key) {\n",
              "        const element = document.querySelector('#df-bfd8d95c-4dea-42bc-8514-76ca876dfaf5');\n",
              "        const dataTable =\n",
              "          await google.colab.kernel.invokeFunction('convertToInteractive',\n",
              "                                                    [key], {});\n",
              "        if (!dataTable) return;\n",
              "\n",
              "        const docLinkHtml = 'Like what you see? Visit the ' +\n",
              "          '<a target=\"_blank\" href=https://colab.research.google.com/notebooks/data_table.ipynb>data table notebook</a>'\n",
              "          + ' to learn more about interactive tables.';\n",
              "        element.innerHTML = '';\n",
              "        dataTable['output_type'] = 'display_data';\n",
              "        await google.colab.output.renderOutput(dataTable, element);\n",
              "        const docLink = document.createElement('div');\n",
              "        docLink.innerHTML = docLinkHtml;\n",
              "        element.appendChild(docLink);\n",
              "      }\n",
              "    </script>\n",
              "  </div>\n",
              "\n",
              "\n",
              "    <div id=\"df-cf7da204-2c0d-4f2d-a221-a4719c6376a8\">\n",
              "      <button class=\"colab-df-quickchart\" onclick=\"quickchart('df-cf7da204-2c0d-4f2d-a221-a4719c6376a8')\"\n",
              "                title=\"Suggest charts\"\n",
              "                style=\"display:none;\">\n",
              "\n",
              "<svg xmlns=\"http://www.w3.org/2000/svg\" height=\"24px\"viewBox=\"0 0 24 24\"\n",
              "     width=\"24px\">\n",
              "    <g>\n",
              "        <path d=\"M19 3H5c-1.1 0-2 .9-2 2v14c0 1.1.9 2 2 2h14c1.1 0 2-.9 2-2V5c0-1.1-.9-2-2-2zM9 17H7v-7h2v7zm4 0h-2V7h2v10zm4 0h-2v-4h2v4z\"/>\n",
              "    </g>\n",
              "</svg>\n",
              "      </button>\n",
              "\n",
              "<style>\n",
              "  .colab-df-quickchart {\n",
              "      --bg-color: #E8F0FE;\n",
              "      --fill-color: #1967D2;\n",
              "      --hover-bg-color: #E2EBFA;\n",
              "      --hover-fill-color: #174EA6;\n",
              "      --disabled-fill-color: #AAA;\n",
              "      --disabled-bg-color: #DDD;\n",
              "  }\n",
              "\n",
              "  [theme=dark] .colab-df-quickchart {\n",
              "      --bg-color: #3B4455;\n",
              "      --fill-color: #D2E3FC;\n",
              "      --hover-bg-color: #434B5C;\n",
              "      --hover-fill-color: #FFFFFF;\n",
              "      --disabled-bg-color: #3B4455;\n",
              "      --disabled-fill-color: #666;\n",
              "  }\n",
              "\n",
              "  .colab-df-quickchart {\n",
              "    background-color: var(--bg-color);\n",
              "    border: none;\n",
              "    border-radius: 50%;\n",
              "    cursor: pointer;\n",
              "    display: none;\n",
              "    fill: var(--fill-color);\n",
              "    height: 32px;\n",
              "    padding: 0;\n",
              "    width: 32px;\n",
              "  }\n",
              "\n",
              "  .colab-df-quickchart:hover {\n",
              "    background-color: var(--hover-bg-color);\n",
              "    box-shadow: 0 1px 2px rgba(60, 64, 67, 0.3), 0 1px 3px 1px rgba(60, 64, 67, 0.15);\n",
              "    fill: var(--button-hover-fill-color);\n",
              "  }\n",
              "\n",
              "  .colab-df-quickchart-complete:disabled,\n",
              "  .colab-df-quickchart-complete:disabled:hover {\n",
              "    background-color: var(--disabled-bg-color);\n",
              "    fill: var(--disabled-fill-color);\n",
              "    box-shadow: none;\n",
              "  }\n",
              "\n",
              "  .colab-df-spinner {\n",
              "    border: 2px solid var(--fill-color);\n",
              "    border-color: transparent;\n",
              "    border-bottom-color: var(--fill-color);\n",
              "    animation:\n",
              "      spin 1s steps(1) infinite;\n",
              "  }\n",
              "\n",
              "  @keyframes spin {\n",
              "    0% {\n",
              "      border-color: transparent;\n",
              "      border-bottom-color: var(--fill-color);\n",
              "      border-left-color: var(--fill-color);\n",
              "    }\n",
              "    20% {\n",
              "      border-color: transparent;\n",
              "      border-left-color: var(--fill-color);\n",
              "      border-top-color: var(--fill-color);\n",
              "    }\n",
              "    30% {\n",
              "      border-color: transparent;\n",
              "      border-left-color: var(--fill-color);\n",
              "      border-top-color: var(--fill-color);\n",
              "      border-right-color: var(--fill-color);\n",
              "    }\n",
              "    40% {\n",
              "      border-color: transparent;\n",
              "      border-right-color: var(--fill-color);\n",
              "      border-top-color: var(--fill-color);\n",
              "    }\n",
              "    60% {\n",
              "      border-color: transparent;\n",
              "      border-right-color: var(--fill-color);\n",
              "    }\n",
              "    80% {\n",
              "      border-color: transparent;\n",
              "      border-right-color: var(--fill-color);\n",
              "      border-bottom-color: var(--fill-color);\n",
              "    }\n",
              "    90% {\n",
              "      border-color: transparent;\n",
              "      border-bottom-color: var(--fill-color);\n",
              "    }\n",
              "  }\n",
              "</style>\n",
              "\n",
              "      <script>\n",
              "        async function quickchart(key) {\n",
              "          const quickchartButtonEl =\n",
              "            document.querySelector('#' + key + ' button');\n",
              "          quickchartButtonEl.disabled = true;  // To prevent multiple clicks.\n",
              "          quickchartButtonEl.classList.add('colab-df-spinner');\n",
              "          try {\n",
              "            const charts = await google.colab.kernel.invokeFunction(\n",
              "                'suggestCharts', [key], {});\n",
              "          } catch (error) {\n",
              "            console.error('Error during call to suggestCharts:', error);\n",
              "          }\n",
              "          quickchartButtonEl.classList.remove('colab-df-spinner');\n",
              "          quickchartButtonEl.classList.add('colab-df-quickchart-complete');\n",
              "        }\n",
              "        (() => {\n",
              "          let quickchartButtonEl =\n",
              "            document.querySelector('#df-cf7da204-2c0d-4f2d-a221-a4719c6376a8 button');\n",
              "          quickchartButtonEl.style.display =\n",
              "            google.colab.kernel.accessAllowed ? 'block' : 'none';\n",
              "        })();\n",
              "      </script>\n",
              "    </div>\n",
              "\n",
              "    </div>\n",
              "  </div>\n"
            ],
            "application/vnd.google.colaboratory.intrinsic+json": {
              "type": "dataframe",
              "variable_name": "df",
              "summary": "{\n  \"name\": \"df\",\n  \"rows\": 170,\n  \"fields\": [\n    {\n      \"column\": \"title\",\n      \"properties\": {\n        \"dtype\": \"string\",\n        \"num_unique_values\": 164,\n        \"samples\": [\n          \"Product Manager - CRM Team\",\n          \"Chat Support Agent (Remote) - Entry Level, No Degree Required - 15 - 18 per Hour\",\n          \"Senior Product Manager I, Billing\"\n        ],\n        \"semantic_type\": \"\",\n        \"description\": \"\"\n      }\n    },\n    {\n      \"column\": \"company\",\n      \"properties\": {\n        \"dtype\": \"string\",\n        \"num_unique_values\": 130,\n        \"samples\": [\n          \"MelodyIQ\",\n          \"ProWriterSites\",\n          \"Payara Services\"\n        ],\n        \"semantic_type\": \"\",\n        \"description\": \"\"\n      }\n    },\n    {\n      \"column\": \"location\",\n      \"properties\": {\n        \"dtype\": \"string\",\n        \"num_unique_values\": 101,\n        \"samples\": [\n          \"Not Listed\",\n          \"Denver, Colorado\",\n          \"Decatur, IL\"\n        ],\n        \"semantic_type\": \"\",\n        \"description\": \"\"\n      }\n    },\n    {\n      \"column\": \"url\",\n      \"properties\": {\n        \"dtype\": \"string\",\n        \"num_unique_values\": 169,\n        \"samples\": [\n          \"https://weworkremotely.com/remote-jobs/axians-digital-business-solutions-sap-solution-architect-cx-crm-w-m-d-1\",\n          \"https://weworkremotely.com/remote-jobs/maverick-trading-stock-options-trader-remote\",\n          \"https://weworkremotely.com/remote-jobs/nogigiddy-chat-support-agent-remote-entry-level-no-degree-required-15-18-5\"\n        ],\n        \"semantic_type\": \"\",\n        \"description\": \"\"\n      }\n    },\n    {\n      \"column\": \"date\",\n      \"properties\": {\n        \"dtype\": \"object\",\n        \"num_unique_values\": 30,\n        \"samples\": [\n          \"2025-08-16\",\n          \"2025-08-27\",\n          \"2025-08-21\"\n        ],\n        \"semantic_type\": \"\",\n        \"description\": \"\"\n      }\n    }\n  ]\n}"
            }
          },
          "metadata": {},
          "execution_count": 67
        }
      ]
    },
    {
      "cell_type": "code",
      "source": [
        "from datetime import datetime, timedelta\n",
        "\n",
        "def parse_relative_data(date_str):\n",
        "  now = datetime.now()\n",
        "  if \"d\" in date_str:\n",
        "    days = int(date_str.replace(\"d\", \"\"))\n",
        "    return now - timedelta(days=days)\n",
        "  else:\n",
        "    return now\n"
      ],
      "metadata": {
        "id": "KkYsA0UMfDHn"
      },
      "execution_count": 61,
      "outputs": []
    },
    {
      "cell_type": "code",
      "source": [
        "# Extract the alphabetic part and get unique values from the resulting Series\n",
        "print(df['date'].str.extract(r\"([a-zA-Z]+)\")[0].unique())"
      ],
      "metadata": {
        "colab": {
          "base_uri": "https://localhost:8080/"
        },
        "id": "X9k2KRxXhlFx",
        "outputId": "ef305879-8fb8-46cf-f385-6789cbdb459f"
      },
      "execution_count": 60,
      "outputs": [
        {
          "output_type": "stream",
          "name": "stdout",
          "text": [
            "['New' 'd' 'Bootcamp']\n"
          ]
        }
      ]
    },
    {
      "cell_type": "code",
      "source": [
        "print(df.count())"
      ],
      "metadata": {
        "colab": {
          "base_uri": "https://localhost:8080/"
        },
        "id": "BGJErsVehmmX",
        "outputId": "39fdcfca-3e4c-49e5-f56b-5394a5bc11cc"
      },
      "execution_count": 69,
      "outputs": [
        {
          "output_type": "stream",
          "name": "stdout",
          "text": [
            "title       170\n",
            "company     170\n",
            "location    170\n",
            "url         170\n",
            "date        170\n",
            "dtype: int64\n"
          ]
        }
      ]
    },
    {
      "cell_type": "code",
      "source": [
        "print(df[\"location\"].value_counts())"
      ],
      "metadata": {
        "colab": {
          "base_uri": "https://localhost:8080/"
        },
        "id": "KTZZYFUnjIgD",
        "outputId": "bb7f9e46-b25b-49ac-9d7e-e7277374a6ad"
      },
      "execution_count": 70,
      "outputs": [
        {
          "output_type": "stream",
          "name": "stdout",
          "text": [
            "location\n",
            "New York, NY        10\n",
            "USA                  9\n",
            "Eaglewood, CO        8\n",
            "Remote               8\n",
            "Atlanta, Georgia     5\n",
            "                    ..\n",
            "America              1\n",
            "Salt Lake City       1\n",
            "Fully Remote         1\n",
            "Austin Texas         1\n",
            "Acireale, Italy      1\n",
            "Name: count, Length: 101, dtype: int64\n"
          ]
        }
      ]
    },
    {
      "cell_type": "code",
      "source": [
        "df[\"date\"] = pd.to_datetime(df[\"date\"], errors = \"coerce\")\n",
        "df[\"date\"].dt.date.value_counts().sort_index().plot(kind=\"bar\")"
      ],
      "metadata": {
        "colab": {
          "base_uri": "https://localhost:8080/",
          "height": 533
        },
        "id": "XSvQaIOJjTkX",
        "outputId": "a2d232ba-1c40-4e18-c0f3-f7fb0809f67c"
      },
      "execution_count": 81,
      "outputs": [
        {
          "output_type": "execute_result",
          "data": {
            "text/plain": [
              "<Axes: xlabel='date'>"
            ]
          },
          "metadata": {},
          "execution_count": 81
        },
        {
          "output_type": "display_data",
          "data": {
            "text/plain": [
              "<Figure size 640x480 with 1 Axes>"
            ],
            "image/png": "[encoded data removed]"
          },
          "metadata": {}
        }
      ]
    },
    {
      "cell_type": "code",
      "source": [
        "print(df.dtypes)"
      ],
      "metadata": {
        "colab": {
          "base_uri": "https://localhost:8080/"
        },
        "id": "dtWI8CBhjXQs",
        "outputId": "d0a446b7-7a13-4d7c-9164-6f363e68d71f"
      },
      "execution_count": 82,
      "outputs": [
        {
          "output_type": "stream",
          "name": "stdout",
          "text": [
            "title               object\n",
            "company             object\n",
            "location            object\n",
            "url                 object\n",
            "date        datetime64[ns]\n",
            "dtype: object\n"
          ]
        }
      ]
    },
    {
      "cell_type": "code",
      "source": [],
      "metadata": {
        "id": "WmZAYaXrjqKH"
      },
      "execution_count": null,
      "outputs": []
    }
  ]
}